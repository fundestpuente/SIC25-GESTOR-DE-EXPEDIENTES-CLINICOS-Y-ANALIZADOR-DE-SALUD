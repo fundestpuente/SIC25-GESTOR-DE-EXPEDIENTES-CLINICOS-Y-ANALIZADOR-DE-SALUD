{
 "cells": [
  {
   "cell_type": "code",
   "execution_count": 15,
   "id": "0ecf2eb1",
   "metadata": {},
   "outputs": [
    {
     "ename": "ModuleNotFoundError",
     "evalue": "No module named 'pandas'",
     "output_type": "error",
     "traceback": [
      "\u001b[31m---------------------------------------------------------------------------\u001b[39m",
      "\u001b[31mModuleNotFoundError\u001b[39m                       Traceback (most recent call last)",
      "\u001b[36mCell\u001b[39m\u001b[36m \u001b[39m\u001b[32mIn[15]\u001b[39m\u001b[32m, line 2\u001b[39m\n\u001b[32m      1\u001b[39m \u001b[38;5;66;03m# Importamos nuestros módulos con las herramientas que creamos\u001b[39;00m\n\u001b[32m----> \u001b[39m\u001b[32m2\u001b[39m \u001b[38;5;28;01mimport\u001b[39;00m\u001b[38;5;250m \u001b[39m\u001b[34;01msrc\u001b[39;00m\u001b[34;01m.\u001b[39;00m\u001b[34;01mProcesamientoDatos\u001b[39;00m\u001b[38;5;250m \u001b[39m\u001b[38;5;28;01mas\u001b[39;00m\u001b[38;5;250m \u001b[39m\u001b[34;01mp\u001b[39;00m\n\u001b[32m      3\u001b[39m \u001b[38;5;28;01mimport\u001b[39;00m\u001b[38;5;250m \u001b[39m\u001b[34;01msrc\u001b[39;00m\u001b[34;01m.\u001b[39;00m\u001b[34;01mVisualizacion\u001b[39;00m\u001b[38;5;250m \u001b[39m\u001b[38;5;28;01mas\u001b[39;00m\u001b[38;5;250m \u001b[39m\u001b[34;01mv\u001b[39;00m\n",
      "\u001b[36mFile \u001b[39m\u001b[32md:\\SIC25-GESTOR-DE-EXPEDIENTES-CLINICOS-Y-ANALIZADOR-DE-SALUD\\src\\ProcesamientoDatos.py:1\u001b[39m\n\u001b[32m----> \u001b[39m\u001b[32m1\u001b[39m \u001b[38;5;28;01mimport\u001b[39;00m\u001b[38;5;250m \u001b[39m\u001b[34;01mpandas\u001b[39;00m\u001b[38;5;250m \u001b[39m\u001b[38;5;28;01mas\u001b[39;00m\u001b[38;5;250m \u001b[39m\u001b[34;01mpd\u001b[39;00m\n\u001b[32m      4\u001b[39m \u001b[38;5;28;01mdef\u001b[39;00m\u001b[38;5;250m \u001b[39m\u001b[34mcargar_y_preparar_datos\u001b[39m(ruta):\n\u001b[32m      5\u001b[39m     \u001b[38;5;28;01mtry\u001b[39;00m:\n",
      "\u001b[31mModuleNotFoundError\u001b[39m: No module named 'pandas'"
     ]
    }
   ],
   "source": [
    "# Importamos nuestros módulos con las herramientas que creamos\n",
    "import src.ProcesamientoDatos as p\n",
    "import src.Visualizacion as v"
   ]
  },
  {
   "cell_type": "code",
   "execution_count": 14,
   "id": "e19eb865",
   "metadata": {},
   "outputs": [
    {
     "name": "stdout",
     "output_type": "stream",
     "text": [
      "============================================================\n",
      "GESTOR DE EXPEDIENTES CLÍNICOS Y ANALIZADOR DE SALUD\n",
      "============================================================\n"
     ]
    },
    {
     "ename": "NameError",
     "evalue": "name 'p' is not defined",
     "output_type": "error",
     "traceback": [
      "\u001b[31m---------------------------------------------------------------------------\u001b[39m",
      "\u001b[31mNameError\u001b[39m                                 Traceback (most recent call last)",
      "\u001b[36mCell\u001b[39m\u001b[36m \u001b[39m\u001b[32mIn[14]\u001b[39m\u001b[32m, line 55\u001b[39m\n\u001b[32m     51\u001b[39m             \u001b[38;5;28mprint\u001b[39m(\u001b[33m\"\u001b[39m\u001b[33mOpción no válida. Por favor, elige una de las opciones disponibles.\u001b[39m\u001b[33m\"\u001b[39m)\n\u001b[32m     54\u001b[39m \u001b[38;5;28;01mif\u001b[39;00m \u001b[34m__name__\u001b[39m == \u001b[33m'\u001b[39m\u001b[33m__main__\u001b[39m\u001b[33m'\u001b[39m:\n\u001b[32m---> \u001b[39m\u001b[32m55\u001b[39m     \u001b[43mmain\u001b[49m\u001b[43m(\u001b[49m\u001b[43m)\u001b[49m\n",
      "\u001b[36mCell\u001b[39m\u001b[36m \u001b[39m\u001b[32mIn[14]\u001b[39m\u001b[32m, line 8\u001b[39m, in \u001b[36mmain\u001b[39m\u001b[34m()\u001b[39m\n\u001b[32m      5\u001b[39m \u001b[38;5;28mprint\u001b[39m(\u001b[33m\"\u001b[39m\u001b[33m=\u001b[39m\u001b[33m\"\u001b[39m*\u001b[32m60\u001b[39m)\n\u001b[32m      7\u001b[39m ruta_del_archivo = \u001b[33m\"\u001b[39m\u001b[33mdata/dataset_final.csv\u001b[39m\u001b[33m\"\u001b[39m\n\u001b[32m----> \u001b[39m\u001b[32m8\u001b[39m datos_pacientes = \u001b[43mp\u001b[49m.cargar_y_preparar_datos(ruta_del_archivo)\n\u001b[32m     10\u001b[39m \u001b[38;5;66;03m# Si el archivo no se carga, el programa termina\u001b[39;00m\n\u001b[32m     11\u001b[39m \u001b[38;5;28;01mif\u001b[39;00m datos_pacientes \u001b[38;5;129;01mis\u001b[39;00m \u001b[38;5;28;01mNone\u001b[39;00m:\n",
      "\u001b[31mNameError\u001b[39m: name 'p' is not defined"
     ]
    }
   ],
   "source": [
    "\n",
    "# FUNCIÓN PRINCIPAL DE EJECUCIÓN\n",
    "def main():\n",
    "    print(\"=\"*60)\n",
    "    print(\"GESTOR DE EXPEDIENTES CLÍNICOS Y ANALIZADOR DE SALUD\")\n",
    "    print(\"=\"*60)\n",
    "    \n",
    "    ruta_del_archivo = \"data/dataset_final.csv\"\n",
    "    datos_pacientes = p.cargar_y_preparar_datos(ruta_del_archivo)\n",
    "\n",
    "    # Si el archivo no se carga, el programa termina\n",
    "    if datos_pacientes is None:\n",
    "        return\n",
    "\n",
    "    # Menú principal para el usuario\n",
    "    while True:\n",
    "        print(\"\\n¿Qué deseas hacer?\")\n",
    "        print(\"1. Analizar un paciente por ID\")\n",
    "        print(\"2. Analizar un paciente por Nombre\") \n",
    "        print(\"3. Generar gráficos de análisis de todos los pacientes\")\n",
    "        print(\"4. Salir\")\n",
    "        \n",
    "        opcion = input(\"Elige una opción: \")\n",
    "\n",
    "        if opcion == '1':\n",
    "            try:\n",
    "                id_a_buscar = int(input(\"Introduce el ID del paciente: \"))\n",
    "                # Se llama a la función de búsqueda con el parámetro 'patient_id'\n",
    "                paciente = p.buscar_paciente(datos_pacientes, patient_id=id_a_buscar)\n",
    "                if paciente is not None:\n",
    "                    p.generar_informe_paciente(paciente)\n",
    "            except ValueError:\n",
    "                print(\"ID no válido. Por favor, introduce un número.\")\n",
    "        \n",
    "        elif opcion == '2':\n",
    "            # --- LÓGICA PARA BUSCAR POR NOMBRE ---\n",
    "            nombre_a_buscar = input(\"Introduce el Nombre y Apellido del paciente: \")\n",
    "            # Se llama a la MISMA función de búsqueda, pero con el parámetro 'nombre_completo'\n",
    "            paciente = p.buscar_paciente(datos_pacientes, nombre_completo=nombre_a_buscar)\n",
    "            if paciente is not None:\n",
    "                # Si se encuentra, se genera el informe como antes\n",
    "                p.generar_informe_paciente(paciente)\n",
    "\n",
    "        elif opcion == '3':\n",
    "            v.visualizar_datos(datos_pacientes)\n",
    "            v.grafico_riesgo_combinado(datos_pacientes)\n",
    "        elif opcion == '4':\n",
    "            print(\"Hasta luego!!!\")\n",
    "            break\n",
    "        \n",
    "        else:\n",
    "            print(\"Opción no válida. Por favor, elige una de las opciones disponibles.\")\n",
    "            \n",
    "\n",
    "if __name__ == '__main__':\n",
    "    main()"
   ]
  }
 ],
 "metadata": {
  "kernelspec": {
   "display_name": ".venv",
   "language": "python",
   "name": "python3"
  },
  "language_info": {
   "codemirror_mode": {
    "name": "ipython",
    "version": 3
   },
   "file_extension": ".py",
   "mimetype": "text/x-python",
   "name": "python",
   "nbconvert_exporter": "python",
   "pygments_lexer": "ipython3",
   "version": "3.13.7"
  }
 },
 "nbformat": 4,
 "nbformat_minor": 5
}
